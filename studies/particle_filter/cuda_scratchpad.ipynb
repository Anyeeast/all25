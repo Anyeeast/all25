{
 "cells": [
  {
   "cell_type": "code",
   "execution_count": 13,
   "metadata": {},
   "outputs": [
    {
     "name": "stdout",
     "output_type": "stream",
     "text": [
      "CuPy version 13.2.0\n",
      "mempool.used_bytes 288001536\n",
      " count 1 duration us 4261 per particle ns 4260565.00\n",
      " count 1000001 duration us 95 per particle ns 0.09\n",
      " count 2000001 duration us 86 per particle ns 0.04\n",
      " count 3000001 duration us 77 per particle ns 0.03\n",
      " count 4000001 duration us 77 per particle ns 0.02\n",
      " count 5000001 duration us 100 per particle ns 0.02\n",
      " count 6000001 duration us 138 per particle ns 0.02\n",
      " count 7000001 duration us 83 per particle ns 0.01\n",
      " count 8000001 duration us 118 per particle ns 0.01\n",
      " count 9000001 duration us 128 per particle ns 0.01\n"
     ]
    }
   ],
   "source": [
    "import numpy as np\n",
    "import cupy as cp\n",
    "from cupyx import jit\n",
    "import time\n",
    "\n",
    "print(f\"CuPy version {cp.__version__}\")\n",
    "mempool = cp.get_default_memory_pool()\n",
    "mempool.free_all_blocks()\n",
    "print(f\"mempool.used_bytes {mempool.used_bytes()}\")\n",
    "\n",
    "\n",
    "@jit.rawkernel()\n",
    "def foo(particle_xy: cp.ndarray, # Nx2\n",
    "        beacon_xy: cp.ndarray, # Mx2\n",
    "        outp: cp.ndarray, # NxM\n",
    "        size: np.int32) -> None:\n",
    "    tid = jit.blockIdx.x * jit.blockDim.x + jit.threadIdx.x\n",
    "    ntid = jit.gridDim.x * jit.blockDim.x\n",
    "    for i in range(tid, size, ntid):\n",
    "        # i is the row in N\n",
    "        for j in range(beacon_xy.shape[0]):\n",
    "            # j is the row in M\n",
    "            p_x = particle_xy[i,0]\n",
    "            p_y = particle_xy[i,1]\n",
    "            b_x = beacon_xy[j,0]\n",
    "            b_y = beacon_xy[j,1]\n",
    "            dx = p_x - b_x\n",
    "            dy = p_y - b_y\n",
    "            d = cp.hypot(dx, dy)\n",
    "            outp[i, j] = d\n",
    "    \n",
    "\n",
    "#particle_xy = cp.array([[1,2],[3,4],[5,6]])\n",
    "\n",
    "for PARTICLE_COUNT in range(1,10000000,1000000):\n",
    "\n",
    "\n",
    "    particle_xy = cp.random.uniform(low=0, high=10, size=(PARTICLE_COUNT,2))\n",
    "    beacon_xy = cp.array([[1,0],[0,1]])\n",
    "    b = cp.zeros((particle_xy.shape[0], beacon_xy.shape[0]))\n",
    "\n",
    "    #print(\"particle_xy\")\n",
    "    #print(particle_xy)\n",
    "    #print(\"beacon_xy\")\n",
    "    #print(beacon_xy)\n",
    "    #print(\"b\")\n",
    "    #print(b)\n",
    "\n",
    "    t0_ns = time.time_ns()\n",
    "    foo((128,),(1024,),(particle_xy,beacon_xy,b,PARTICLE_COUNT))\n",
    "    t1_ns = time.time_ns()\n",
    "    duration_ns = t1_ns - t0_ns\n",
    "    per_particle_ns = duration_ns/PARTICLE_COUNT\n",
    "    print(f\" count {PARTICLE_COUNT} duration us {duration_ns/1000:.0f} per particle ns {per_particle_ns:.2f}\")\n",
    "\n",
    "    #print(\"b\")\n",
    "    #print(b)\n"
   ]
  }
 ],
 "metadata": {
  "kernelspec": {
   "display_name": "Python 3",
   "language": "python",
   "name": "python3"
  },
  "language_info": {
   "codemirror_mode": {
    "name": "ipython",
    "version": 3
   },
   "file_extension": ".py",
   "mimetype": "text/x-python",
   "name": "python",
   "nbconvert_exporter": "python",
   "pygments_lexer": "ipython3",
   "version": "3.10.12"
  }
 },
 "nbformat": 4,
 "nbformat_minor": 2
}
