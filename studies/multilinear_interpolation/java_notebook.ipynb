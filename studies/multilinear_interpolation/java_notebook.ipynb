{
 "cells": [
  {
   "cell_type": "code",
   "execution_count": null,
   "metadata": {
    "vscode": {
     "languageId": "java"
    }
   },
   "outputs": [],
   "source": [
    "System.out.println(\"hello\")\n"
   ]
  },
  {
   "cell_type": "markdown",
   "metadata": {},
   "source": [
    "To make this work, here's what I did:\n",
    "\n",
    "download the ijava release zip from https://github.com/SpencerPark/IJava/releases\n",
    "\n",
    "move it to the 'java' directory here\n",
    "\n",
    "in the \"terminal\" window of vscode, type unzip ijava-1.3.0.zip\n",
    "\n",
    "git doesn't seem to want to check in the zip file or the unzipped files, which is fine.\n",
    "\n",
    "sudo python3 -m pip install jupyter \n",
    "\n",
    "sudo python3 install.py\n",
    "\n",
    "then the java kernel should appear when you type jupyter kernelspec list\n",
    "\n",
    "and it should also appear in the \"choose a kernel\" thing in vscode.\n",
    "\n"
   ]
  },
  {
   "cell_type": "code",
   "execution_count": null,
   "metadata": {
    "vscode": {
     "languageId": "java"
    }
   },
   "outputs": [],
   "source": [
    "%maven org.knowm.xchart:xchart:3.5.2\n",
    "\n",
    "import org.knowm.xchart.*;\n",
    "\n",
    "double[] xData = {0.0, 1.0, 2.0};\n",
    "double[] yData = {2.0, 1.0, 0.0};\n",
    "\n",
    "XYChart chart = QuickChart.getChart(\"Sample\", \"X\", \"Y\", \"y(x)\", xData, yData);\n",
    "\n",
    "BitmapEncoder.getBufferedImage(chart);"
   ]
  },
  {
   "cell_type": "code",
   "execution_count": null,
   "metadata": {
    "vscode": {
     "languageId": "java"
    }
   },
   "outputs": [],
   "source": [
    "%maven org.jfree:jfreechart:1.5.5\n",
    "\n",
    "import org.jfree.data.xy.DefaultXYDataset;\n",
    "import org.jfree.chart.JFreeChart;\n",
    "import org.jfree.chart.ChartFactory;\n",
    "import java.awt.Color;\n",
    "\n",
    "\n",
    "DefaultXYDataset d = new DefaultXYDataset();\n",
    "d.addSeries(\"foo\", new double[][]{{1,2},{3,4}});\n",
    "\n",
    "JFreeChart chart = ChartFactory.createScatterPlot(\"title\",\"x\",\"y\",d);\n",
    "chart.getPlot().setBackgroundPaint(Color.WHITE);\n",
    "chart.createBufferedImage(400,400);"
   ]
  },
  {
   "cell_type": "code",
   "execution_count": 10,
   "metadata": {
    "vscode": {
     "languageId": "java"
    }
   },
   "outputs": [],
   "source": [
    "// note you need to \"build robot code\" before the class files appear here.\n",
    "%classpath build/classes/java/main\n",
    "%jars build/libs/multilinear_interpolation.jar\n",
    "// these are duplicated from build.gradle.\n",
    "%maven com.github.haifengl:smile-core:3.1.1\n",
    "%maven com.github.haifengl:smile-plot:3.1.1\n",
    "\n",
    "import org.team100.math.Interp;\n",
    "import org.team100.math.Accuracy;\n"
   ]
  },
  {
   "cell_type": "code",
   "execution_count": 2,
   "metadata": {
    "vscode": {
     "languageId": "java"
    }
   },
   "outputs": [
    {
     "name": "stderr",
     "output_type": "stream",
     "text": [
      "SLF4J(W): No SLF4J providers were found.\n",
      "SLF4J(W): Defaulting to no-operation (NOP) logger implementation\n",
      "SLF4J(W): See https://www.slf4j.org/codes.html#noProviders for further details.\n"
     ]
    }
   ],
   "source": [
    "// Interp in = new Interp();\n",
    "// in.demo();"
   ]
  },
  {
   "cell_type": "code",
   "execution_count": 12,
   "metadata": {
    "vscode": {
     "languageId": "java"
    }
   },
   "outputs": [
    {
     "ename": "CompilationException",
     "evalue": "",
     "output_type": "error",
     "traceback": [
      "\u001b[1m\u001b[30m|   \u001b[1m\u001b[30m\u001b[0m\u001b[1m\u001b[30m\u001b[41mOpenCV\u001b[0m\u001b[1m\u001b[30m.loadLibrary();\u001b[0m",
      "\u001b[1m\u001b[31mcannot find symbol\u001b[0m",
      "\u001b[1m\u001b[31m  symbol:   variable OpenCV\u001b[0m",
      ""
     ]
    }
   ],
   "source": [
    "\n",
    "Accuracy a = new Accuracy();\n",
    "a.run()"
   ]
  },
  {
   "cell_type": "markdown",
   "metadata": {},
   "source": []
  }
 ],
 "metadata": {
  "kernelspec": {
   "display_name": "Java",
   "language": "java",
   "name": "java"
  },
  "language_info": {
   "codemirror_mode": "java",
   "file_extension": ".jshell",
   "mimetype": "text/x-java-source",
   "name": "Java",
   "pygments_lexer": "java",
   "version": "17.0.12+7-Ubuntu-1ubuntu222.04"
  }
 },
 "nbformat": 4,
 "nbformat_minor": 2
}
